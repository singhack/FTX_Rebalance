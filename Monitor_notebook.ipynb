{
 "cells": [
  {
   "cell_type": "code",
   "execution_count": 3,
   "metadata": {},
   "outputs": [
    {
     "name": "stdout",
     "output_type": "stream",
     "text": [
      "{'FTX-SUBACCOUNT': 'main_farm'}\n"
     ]
    }
   ],
   "source": [
    "import ccxt\n",
    "from exchange import Exchange\n",
    "from record import Record\n",
    "import datetime as dt\n",
    "import json\n",
    "import seaborn as sns\n",
    "import pandas as pd\n",
    "import numpy as np\n",
    "import matplotlib.pyplot as plt\n",
    "import talib as ta\n",
    "\n",
    "\n",
    "%matplotlib inline\n",
    "pd.set_option('display.max_columns', 100)\n",
    "\n",
    "\n",
    "ex =Exchange()\n",
    "rec= Record()\n",
    "sub_account = ex.sub_account\n",
    "exchange=ex.exchange\n",
    "token_name = 'XRP'\n",
    "pair = token_name +'/USD'\n",
    "# ex.fetch_tickers()\n",
    "print(exchange.headers)\n",
    "# '2021-03-23T19:00:00Z'\n",
    "start_date = dt.datetime.now() - dt.timedelta(days=365)\n",
    "end_date = dt.date.today()\n",
    "since_trade = dt.datetime.now() - dt.timedelta(days=30) ### Last 5 days\n",
    "since_str = since_trade.strftime('%Y-%m-%d')\n",
    "timestamp = since_trade.timestamp()*1000"
   ]
  },
  {
   "cell_type": "code",
   "execution_count": 2,
   "metadata": {},
   "outputs": [],
   "source": [
    "# def read_config():\n",
    "#     with open('config.json','r') as json_file:\n",
    "#         return json.load(json_file)\n",
    "# def write_config(json_obj):\n",
    "#     with open('config.json','w') as json_file:\n",
    "#         return json.dump(json_obj,json_file)   \n",
    "\n",
    "# json_file =read_config()\n",
    "# print(json_file)\n",
    "\n",
    "# # json_file['threshold_buy'] = [0.03,0.07,0.05,0.02]\n",
    "# # write_config(json_file)"
   ]
  },
  {
   "cell_type": "code",
   "execution_count": null,
   "metadata": {},
   "outputs": [],
   "source": [
    "## edit file\n",
    "def edit_config():\n",
    "    json_file =read_config()\n",
    "    for key,values in json_file.items():\n",
    "        print(key , values)\n",
    "    print('#'*50)\n",
    "    edit_name = str(input('Config name to edit >>> '))\n",
    "    # edit_json = json_file[edit_name]\n",
    "    print(json_file[edit_name])\n",
    "\n",
    "\n",
    "    if edit_name == 'cd':\n",
    "        edit_values = int(input('Values to Edit [int]: '))\n",
    "        json_file[edit_name] = edit_values\n",
    "        write_config(json_file)\n",
    "        print(f'Complete Edit {edit_name}: {edit_values}')"
   ]
  },
  {
   "cell_type": "code",
   "execution_count": null,
   "metadata": {},
   "outputs": [],
   "source": [
    "# with open('config.json') as json_file:\n",
    "#     jsona= json.load(json_file)"
   ]
  },
  {
   "cell_type": "code",
   "execution_count": null,
   "metadata": {},
   "outputs": [],
   "source": [
    "    def checkDB(pair):\n",
    "        pairx = pair.split('/')[0]\n",
    "\n",
    "        try:\n",
    "            tradinglog = pd.read_csv(f\"{Exchange().sub_account}_{pairx}.csv\")\n",
    "            print('DataBase Exist Loading DataBase....')\n",
    "        except:\n",
    "            tradinglog = pd.DataFrame(\n",
    "                columns=['id', 'timestamp', 'datetime', 'symbol', 'side', 'price', 'amount', 'cost', 'fee'])\n",
    "            tradinglog.to_csv(f\"{Exchange().sub_account}_{pairx}.csv\", index=False)\n",
    "            print(\"Database Created\")\n",
    "        return tradinglog\n",
    "\n",
    "\n",
    "    def update_trade_log( pair):\n",
    "        pair = pair\n",
    "        pairx = pair.split('/')[0]\n",
    "        ### Read DB\n",
    "        tradinglog = pd.read_csv(f\"{Exchange().sub_account}_{'SOL'}.csv\")\n",
    "        ### Fetch order \n",
    "        trade_history = last_transcation(pair) #symbols\n",
    "        tradinglogg= pd.concat([tradinglog,trade_history],ignore_index=True)\n",
    "        tradinglogg['id']=tradinglogg['id'].astype('int32') ### Convert id to int\n",
    "        tradinglogg=tradinglogg.drop_duplicates( 'id')\n",
    "        tradinglogg.to_csv(f\"{Exchange().sub_account}_{'SOL'}.csv\", index=False)\n",
    "            \n",
    "            \n",
    "    \n",
    "    def get_last_id( pair):\n",
    "        pair = pair\n",
    "        trade_history = last_transcation(pair)\n",
    "        last_trade_id = (trade_history.iloc[:10]['id'])\n",
    "\n",
    "        return last_trade_id\n",
    "    \n"
   ]
  },
  {
   "cell_type": "code",
   "execution_count": null,
   "metadata": {},
   "outputs": [],
   "source": [
    "# checkDB('SOL/USD')\n",
    "# df =pd.read_csv(f\"{Exchange().sub_account}_{'SOL'}.csv\")\n",
    "# pair= 'SOL/USD'\n"
   ]
  },
  {
   "cell_type": "code",
   "execution_count": 4,
   "metadata": {},
   "outputs": [
    {
     "name": "stdout",
     "output_type": "stream",
     "text": [
      "XRP 1.4429\n",
      "SOL 49.6125\n",
      "SRM 8.038\n",
      "XRPBEAR 3.4e-06\n"
     ]
    }
   ],
   "source": [
    "# symbol_list = jsona['symbols']\n",
    "# symbol_list\n",
    "stop_target = [0.3,0.1,0.5,0.2]\n",
    "entry_list =[1.1,30.0,5.0,0.000019]\n",
    "\n",
    "symbol_list = ['XRP', 'SOL', 'SRM', 'XRPBEAR']\n",
    "\n",
    "def entry_port(entry_list):\n",
    "    try:\n",
    "        aa = pd.DataFrame()\n",
    "        aa['symbol'] = np.array(symbol_list)\n",
    "        price_list = []\n",
    "\n",
    "        for symbol in symbol_list:\n",
    "            price =  ex.get_price(symbol+'/USD')\n",
    "            price_list.append(price)\n",
    "            aa['price'] =0.0\n",
    "            aa['entry'] = 0.0\n",
    "\n",
    "        aa['price'] = price_list\n",
    "        aa['stop'] = aa['price']-(stop_target* aa['price'])\n",
    "        aa['tp'] =aa['price']+(stop_target* aa['price'])\n",
    "\n",
    "        aa['entry'] =entry_list\n",
    "        # aa.set_index('symbol',inplace=True)\n",
    "        aa.to_csv('entry_price_log.csv')\n",
    "    except Exception as e:\n",
    "        print(str(e))\n",
    "\n",
    "def check_pnl(token_name):\n",
    "    first_entry={}\n",
    "    price ={}\n",
    "    try:\n",
    "        equity_db= pd.read_csv('entry_price_log.csv')\n",
    "        first_entry[token_name] = equity_db[equity_db['symbol']==token_name]['entry'][0]\n",
    "        price[token_name] = equity_db[equity_db['symbol'] ==token_name]['price'][0]\n",
    "        diff = (price[token_name] - first_entry[token_name])\n",
    "        return first_entry\n",
    "    except:\n",
    "        symbols = token_name +'/USD'\n",
    "        first_entry[token_name]= Exchange().get_price(symbols)\n",
    "        print('**** None Database *** ')\n",
    "        return  first_entry\n",
    "\n",
    "def get_price(token_name):\n",
    "    price = exchange.fetch_ticker(token_name)['last']\n",
    "    return float(price)\n",
    "\n",
    "\n",
    "# rec.get_trade_history('XRP/USD',,last_transaction=500) ###((exhange.milliseconds() - 144000000)\n",
    "def last_transcation(pair,sincee =timestamp,limitt=100):\n",
    "    transcation = pd.DataFrame(exchange.fetchMyTrades(pair, since=sincee,limit=limitt),\n",
    "                    columns=['id', 'timestamp', 'datetime', 'symbol', 'side', 'price', 'amount','cost','fee'])\n",
    "    transcations = []\n",
    "    for i in range(len(transcation)):\n",
    "            transcations.append((transcation['fee'][i]['cost']))  # ใน fee เอาแค่ cost\n",
    "    transcation['fee'] = transcations\n",
    "    return transcation\n",
    "\n",
    "#     print(i)\n",
    "# str(exchange.milliseconds() - 1440000)\n",
    "    \n",
    "for symbol in symbol_list:\n",
    "    price =  ex.get_price(symbol+'/USD')\n",
    "    print(symbol,price)\n",
    "\n",
    "    "
   ]
  },
  {
   "cell_type": "code",
   "execution_count": null,
   "metadata": {},
   "outputs": [],
   "source": [
    "### filen from record.py\n",
    "filen= f'log\\Equity_{sub_account}.csv'\n",
    "\n",
    "df = pd.read_csv(filen)\n",
    "df['date']= pd.to_datetime(df['date'])\n",
    "df.set_index('date',inplace=True)\n",
    "\n",
    "df_resample =df.resample('15T').mean().fillna(method = 'ffill')\n",
    "df_resample.tail()"
   ]
  },
  {
   "cell_type": "code",
   "execution_count": 10,
   "metadata": {},
   "outputs": [
    {
     "data": {
      "image/png": "[encoded data removed]",
      "text/plain": [
       "<Figure size 432x288 with 1 Axes>"
      ]
     },
     "metadata": {},
     "output_type": "display_data"
    }
   ],
   "source": [
    "wallet = ex.get_wallet()\n",
    "wallet_df = pd.DataFrame(wallet)\n",
    "\n",
    "df1 = wallet_df[['coin', 'usdValue']]\n",
    "\n",
    "pie_chart(df1['usdValue'],df1['coin'],donut=True)\n",
    "# # df_resample['Equity'].plot()\n",
    "# plt.title('Portfolio')\n",
    "# plt.show()\n",
    "# print(df1)\n",
    "# https://medium.com/analytics-vidhya/how-to-get-started-with-stock-performance-analysis-in-python-53378e3b8d74"
   ]
  },
  {
   "cell_type": "code",
   "execution_count": 11,
   "metadata": {},
   "outputs": [
    {
     "name": "stderr",
     "output_type": "stream",
     "text": [
      "C:\\Users\\User\\Anaconda3\\lib\\site-packages\\ipykernel_launcher.py:20: SettingWithCopyWarning: \n",
      "A value is trying to be set on a copy of a slice from a DataFrame.\n",
      "Try using .loc[row_indexer,col_indexer] = value instead\n",
      "\n",
      "See the caveats in the documentation: https://pandas.pydata.org/pandas-docs/stable/user_guide/indexing.html#returning-a-view-versus-a-copy\n"
     ]
    },
    {
     "data": {
      "image/png": "[encoded data removed]",
      "text/plain": [
       "<Figure size 576x288 with 1 Axes>"
      ]
     },
     "metadata": {},
     "output_type": "display_data"
    }
   ],
   "source": [
    "def pie_chart(values,label,donut=False):\n",
    "    # plt.show()\n",
    "    fig1, ax1 = plt.subplots()\n",
    "    ax1.pie(values,labels = label,shadow=False, startangle=90, pctdistance=0.75,autopct= '%1.1f%%')\n",
    "    # ax1.axis('equal')\n",
    "    plt.tight_layout()\n",
    "    if donut ==True:\n",
    "        centre_circle = plt.Circle((0, 0), 0.70, fc='white')\n",
    "        fig = plt.gcf()\n",
    "        fig.gca().add_artist(centre_circle)\n",
    "    # plt.pie(wallet_data['usdValue'], labels  = wallet_data['coin'])\n",
    "    plt.show()\n",
    "\n",
    "    #Seaborn Horizontal barplot \n",
    "# https://www.dataforeverybody.com/matplotlib-seaborn-pie-charts/\n",
    "def plot_bar():\n",
    "    wallet = ex.get_wallet()\n",
    "    wallet_df = pd.DataFrame(wallet)\n",
    "    df1 = wallet_df[['coin', 'usdValue']]\n",
    "    df1['usdValue'] = df1['usdValue'].astype('float')\n",
    "    df_percent = df1.groupby('coin').agg(percentage = ('usdValue', lambda p: p.sum() / df1['usdValue'].sum() * 100) ).round(2)\n",
    "    sns.set_style(\"whitegrid\")\n",
    "    bar,ax = plt.subplots(figsize=(8,4))\n",
    "    ax = sns.barplot(x=\"percentage\", y=df_percent.index, data=df_percent, ci=None, palette=\"muted\",orient='h' ) #swap x ,y \n",
    "    ax.set_title(\"Portfolio Total Values\", fontsize=15)\n",
    "    ax.set_xlabel (\"Coins\",fontsize=12)\n",
    "    ax.set_ylabel (\"Percentage\",fontsize=12)\n",
    "    ax.grid(False)\n",
    "    sns.despine(bottom = True, left = False)\n",
    "\n",
    "    for rect in ax.patches:\n",
    "        ax.text (rect.get_width(), rect.get_y() + rect.get_height() / 2,\"%.1f%%\"% rect.get_width(), weight='bold' )\n",
    "    # bar.savefig(\"Seaborn_Bar_Vertical.png\");\n",
    "    plt.show()\n",
    "    return    df_percent\n",
    "\n",
    "\n",
    "\n",
    "\n",
    "def rebalance_plan(starts,gap,zone =0.5 ,fix_values=1000 , start_cash=1000):\n",
    "    gap_p = starts  * gap\n",
    "    bh= fix_values +start_cash\n",
    "    a=np.arange(starts,(zone*starts),-gap_p)\n",
    "    b=np.arange(starts,((1+zone)*starts),gap_p)\n",
    "    c=np.concatenate((a, b),axis=None)\n",
    "    dd = pd.DataFrame(c,columns=['price'])\n",
    "    dd.drop_duplicates(inplace=True)\n",
    "    dd.sort_values('price',ascending=False,inplace=True)\n",
    "    dd['diff']  = (dd['price']-starts)/starts\n",
    "    # start_equity = 10000\n",
    "#     fix_values =1000\n",
    "#     start_cash = 1000\n",
    "    dd['values'] = (dd['diff'] * fix_values)+fix_values\n",
    "\n",
    "    dd['cash_values'] = (dd['diff'] * start_cash)+start_cash\n",
    "\n",
    "    dd['unit']= fix_values/dd['price']\n",
    "\n",
    "\n",
    "    port_value =dd['unit']*dd['price']\n",
    "    dd['equity']=(port_value + dd['cash_values'])\n",
    "    dd['equity_bh'] =  bh+ (bh*dd['diff']) \n",
    "    dd['cf']=(dd['diff'] * fix_values)\n",
    "    \n",
    "    return dd\n",
    "\n",
    "df_percent= plot_bar()\n"
   ]
  },
  {
   "cell_type": "code",
   "execution_count": null,
   "metadata": {},
   "outputs": [],
   "source": [
    "\n",
    "starts = 40\n",
    "gap = starts  * 0.02\n",
    "zone = 0.50 ### range 0.1- 1.0\n",
    "\n",
    "dd= rebalance_plan(45,0.02,0.5,start_cash= 10000)\n",
    "dd.set_index('diff',inplace=True)\n",
    "# dd"
   ]
  },
  {
   "cell_type": "code",
   "execution_count": null,
   "metadata": {},
   "outputs": [],
   "source": [
    "\n",
    "def calc_MDD(networth):\n",
    "  df = pd.Series(networth, name=\"nw\").to_frame()\n",
    "\n",
    "  max_peaks_idx = df.nw.expanding(min_periods=1).apply(lambda x: x.argmax()).fillna(0).astype(int)\n",
    "  df['max_peaks_idx'] = pd.Series(max_peaks_idx).to_frame()\n",
    "\n",
    "  nw_peaks = pd.Series(df.nw.iloc[max_peaks_idx.values].values, index=df.nw.index)\n",
    "\n",
    "  df['dd'] = ((df.nw-nw_peaks)/nw_peaks)\n",
    "  df['mdd'] = df.groupby('max_peaks_idx').dd.apply(lambda x: x.expanding(min_periods=1).apply(lambda y: y.min())).fillna('ffill')\n",
    "\n",
    "  return df\n"
   ]
  },
  {
   "cell_type": "code",
   "execution_count": null,
   "metadata": {},
   "outputs": [],
   "source": [
    "cf_mean =df_resample['Equity'].pct_change().mean()\n",
    "ann_ret = (df_resample['Equity'].pct_change().mean()) *np.sqrt(252)"
   ]
  },
  {
   "cell_type": "code",
   "execution_count": null,
   "metadata": {},
   "outputs": [],
   "source": [
    "df_resample['Exposure_ALL'].plot()"
   ]
  },
  {
   "cell_type": "code",
   "execution_count": null,
   "metadata": {},
   "outputs": [],
   "source": [
    "dd_df =calc_MDD(df_resample['Equity'])\n",
    "dd_df[['dd','mdd']].plot()\n",
    "dd_df.tail()"
   ]
  },
  {
   "cell_type": "code",
   "execution_count": null,
   "metadata": {},
   "outputs": [],
   "source": [
    "df_resample.tail()"
   ]
  },
  {
   "cell_type": "code",
   "execution_count": null,
   "metadata": {},
   "outputs": [],
   "source": [
    "since_trade = dt.datetime.now() - dt.timedelta(days=10)\n",
    "since_str = end_date.strftime('%Y-%m-%d')\n",
    "ts_stamp  = since_trade.timestamp()*1000"
   ]
  },
  {
   "cell_type": "code",
   "execution_count": null,
   "metadata": {},
   "outputs": [],
   "source": [
    "pair= 'LTC/USD'\n",
    "ad = last_transcation(pair,limitt=100)\n",
    "ad"
   ]
  },
  {
   "cell_type": "code",
   "execution_count": null,
   "metadata": {},
   "outputs": [],
   "source": [
    "def avg_price(df):\n",
    "    df.sort_values(['timestamp','symbol','side'], ascending=[True,True, True], inplace=True)\n",
    "    df['usd_value'] = df['amount'] * df['price']\n",
    "    df['adj_amount'] = df.apply(lambda x: ((x.side == \"buy\") - (x.side == \"sell\")) * x['amount'], axis = 1)\n",
    "    df['adj_amount'] = df.groupby('symbol')['adj_amount'].cumsum()\n",
    "    df['adj_price'] = df.apply(lambda x: ((x.side == \"buy\") - (x.side == \"sell\")) * x['usd_value'], axis = 1)\n",
    "    df['adj_price'] = df.groupby('symbol')['adj_price'].cumsum().div(df['adj_amount'])\n",
    "    return df\n",
    "\n",
    "def Roc(df,shift=7):\n",
    "    \n",
    "    df['diff_7'] = df['close'].shift(shift)\n",
    "    df['roc_7']  = (df['close'] / df['diff_7'] -1) *100\n",
    "    \n",
    "    return df['roc_7'].iloc[-1],df['close'].shift(shift).iloc[-1] ### roc_7 , close[-7]\n",
    "\n",
    "def volatility(df,windows=30):\n",
    "    \n",
    "    log_ret = np.log(df['close'] / df['close'].shift(1))\n",
    "  # Compute Volatility using the pandas rolling standard deviation function\n",
    "  # return pd.rolling_std(log_ret, window=252) * np.sqrt(252)\n",
    "    volatilitys =  log_ret.rolling(window=windows).std() * np.sqrt(windows)\n",
    "    return volatilitys\n",
    "\n",
    "def get_data(symbol) :\n",
    "    df = pd.DataFrame(exchange.fetch_ohlcv(symbol,timeframe=timeframes, since=start_ts),columns=['date','open','high','low','close','volume'])\n",
    "    df['date'] = pd.to_datetime(df['date'],unit='ms')\n",
    "    df.set_index('date',inplace=True)\n",
    "    return df\n",
    "\n",
    "def anlysis(dataframe,hurst_on=False):\n",
    "    try:\n",
    "        df =dataframe\n",
    "        up, mid, low = ta.BBANDS(df['close'], timeperiod=50, nbdevup=2, nbdevdn=2, matype=0)\n",
    "        #   df['chg'] =df.close - df.close.shift(1)\n",
    "        df['hhv'] = df['high'].rolling(50).max().shift(1)\n",
    "        df['llv'] = df['low'].rolling(50).max().shift(1)\n",
    "        df['atr'] = ta.ATR(df['high'],df['low'],df['close'],timeperiod= 10)\n",
    "        df['rsi']= ta.RSI(df['close'],timeperiod=10)\n",
    "        df['p_atr'] = round(df['atr'] /df['close']*100,3)\n",
    "        df['log_ret'] =  np.log(df.close) - np.log(df.close.shift(1))\n",
    "        df['win']= np.sign(df['log_ret'])\n",
    "        blocks = df['win'].ne(df['win'].shift()).cumsum()\n",
    "        df['consecutive WL'] = df['win'].groupby(blocks).cumsum()\n",
    "\n",
    "        if hurst_on == True :\n",
    "          df['hurst']=0\n",
    "          for i in range(120,len(df)):\n",
    "            df.iloc[i,df.columns.get_loc('hurst')]=compute_Hc(df['close'].iloc[i-120:i-1], kind='price')[0] ### list and  add to data\n",
    "          # df.dropna(inplace=True)\n",
    "  # #         print(df.tail(5))\n",
    "          return df\n",
    "        else:\n",
    "          return df\n",
    "    except Exception as e:\n",
    "        print(str(e))\n",
    "\n",
    "trade_history= avg_price(ad)\n",
    "avg_buy_price =trade_history['adj_price'][-1:]\n",
    "avg_buy_price = float(avg_buy_price.values)\n",
    "trade_history.append({'adj_amount':18.13},ignore_index=True)"
   ]
  },
  {
   "cell_type": "code",
   "execution_count": null,
   "metadata": {},
   "outputs": [],
   "source": [
    "from hurst import compute_Hc\n",
    "df= get_data('SOL/USD')\n",
    "df['ann_volatilty']=volatility(df)\n",
    "df = anlysis(df,True)\n",
    "# low_of_52week = round(min(df[\"low\"][-50:]), 2)\n",
    "df\n",
    "# Roc(df)"
   ]
  },
  {
   "cell_type": "code",
   "execution_count": null,
   "metadata": {},
   "outputs": [],
   "source": [
    "timeframes ='1d'\n",
    "\n",
    "start_date = dt.datetime.now() - dt.timedelta(days=252)\n",
    "start_ts = start_date.timestamp()*1000\n",
    "end_date = dt.date.today()\n",
    "token_name  = ['SOL','MATIC','XLMBULL','COIN'] ### tokens name\n",
    "ddd ={}\n",
    "ohlc_data ={}\n",
    "#######################\n",
    "\n",
    "for token in token_name:\n",
    "# symbols = token_name+'/USD'\n",
    "    symbols = token+'/USD'\n",
    "    price =get_price(symbols)\n",
    "    wallet = ex.get_wallet()\n",
    "    wallet = pd.DataFrame(wallet)\n",
    "    wallet = wallet[wallet['coin']== token]\n",
    "    wallet['usdValue'] = wallet['usdValue'].astype(float)\n",
    "    wallet['availableWithoutBorrow'] =wallet['availableWithoutBorrow'].astype(float)\n",
    "    wallet['price']=wallet['usdValue'] / wallet['availableWithoutBorrow']\n",
    "\n",
    "    hold_value = round( ex.get_token_value(token),2)\n",
    "    trade_history = last_transcation(pair= symbols ,limitt=100)# ,formats =since_str\n",
    "#     trade_history = pd.DataFrame(Exchange().exchange.fetchMyTrades(token+'/USD', limit=100),\n",
    "#                                          columns=['id', 'timestamp', 'datetime', 'symbol', 'side', 'price', 'amount',\n",
    "#                                                   'cost',\n",
    "#                                                   'fee'])\n",
    "#     cost = []\n",
    "#     for i in range(len(trade_history)):\n",
    "#         cost.append((trade_history['fee'][i]['cost']))  # ใน fee เอาแค่ cost\n",
    "#     trade_history['fee'] = cost\n",
    "\n",
    "\n",
    "\n",
    "    trade_history.sort_values(['timestamp','symbol','side'], ascending=[True,True, True], inplace=True)\n",
    "    trade_history['usd_value'] = trade_history['amount'] * trade_history['price']\n",
    "    trade_history['adj_amount'] = trade_history.apply(lambda x: ((x.side == \"buy\") - (x.side == \"sell\")) * x['amount'], axis = 1)\n",
    "    trade_history['adj_amount'] = trade_history.groupby('symbol')['adj_amount'].cumsum()\n",
    "\n",
    "    trade_history['adj_price'] = trade_history.apply(lambda x: ((x.side == \"buy\") - (x.side == \"sell\")) * x['usd_value'], axis = 1)\n",
    "    trade_history['adj_price'] = trade_history.groupby('symbol')['adj_price'].cumsum().div(trade_history['adj_amount'])\n",
    "#### Selected row for first data trades \n",
    "    avg_buy_price =trade_history['adj_price'][-1:]\n",
    "    avg_buy_price = float(avg_buy_price.values)\n",
    "\n",
    "    df= get_data(symbols)\n",
    "    ohlc_data[token] =df\n",
    "    roc_7,close_7 = Roc(df)\n",
    "    df_buy  = trade_history[trade_history['side'] == 'buy']\n",
    "    cost_buy= (df_buy['price']*df_buy['amount'] ) .sum()\n",
    "    sum_amount = df_buy['amount'].sum()\n",
    "    avg_buy = cost_buy / sum_amount\n",
    "    buy_cost =df_buy['cost'].sum()\n",
    "\n",
    "\n",
    "\n",
    "    df_sell  = trade_history[trade_history['side'] == 'sell']\n",
    "    cost_sell= (df_sell['price']*df_sell['amount'] ) .sum()\n",
    "    sum_amount_sell = df_sell['amount'].sum()\n",
    "    if sum_amount_sell > 0.0 :\n",
    "        avg_sell = cost_sell / sum_amount_sell\n",
    "    else :\n",
    "        sum_amount_sell = 0.0\n",
    "        avg_sell = cost_sell / sum_amount_sell\n",
    "\n",
    "    sell_cost =df_sell['cost'].sum()\n",
    "    # diff= sell_cost - buy_cost\n",
    "\n",
    "    price_now = ex.get_price(symbols)\n",
    "    unit =hold_value / price_now\n",
    "\n",
    "    pnl_p = (price_now - avg_buy_price) / avg_buy_price \n",
    "    diff  = sell_cost - buy_cost\n",
    "    real_pnl =  hold_value +diff\n",
    "    real_pnl_p = (real_pnl) / buy_cost \n",
    "    unreal_pnl = (hold_value + sell_cost)  - buy_cost\n",
    "    unreal_pnl_p = unreal_pnl / buy_cost\n",
    "#     print(roc_7,close_7)\n",
    "    # real_pnl =  (hold_value - buy_cost ) +sell_cost\n",
    "    print(f'{symbols} Sum Buy {buy_cost} : Sum Sell {sell_cost} ')\n",
    "#     print(f'Hold Value {hold_value}$ AvgBuy {avg_buy_price} : Now {price_now}')\n",
    "    # print(f'UnrealizePnL {unreal_pnl_p*100}% : {unreal_pnl}$ ')\n",
    "#     print(f' Cashflow {diff} RealizePnL {real_pnl_p*100}% : {real_pnl}$ ')\n",
    "    print('#'*50)\n",
    "    dict_wallet = {'price':price,'unit':unit,'hold_value':hold_value, 'avg_buy':avg_buy_price,'sum_buy':buy_cost,'sum_sell':sell_cost,'cf':diff ,'UnPnL':unreal_pnl,'UnPnl%':unreal_pnl_p,'close_7':close_7,'roc_7':roc_7}\n",
    "    ddd[token] = dict_wallet"
   ]
  },
  {
   "cell_type": "code",
   "execution_count": null,
   "metadata": {},
   "outputs": [],
   "source": [
    "walllet_list = pd.DataFrame(ddd).T\n",
    "# walllet_list['diff_avg'] =(walllet_list['price']-walllet_list['avg_buy']) / walllet_list['avg_buy'] ### % diff\n",
    "# walllet_list['Turnover'] = walllet_list['sum_sell'] / walllet_list['hold_value']\n",
    "# #entry 6300\n",
    "# walllet_list['cf'] + walllet_list['hold_value']\n",
    "# walllet_list['diff_7'][walllet_list.index == 'SOL'] \n",
    "walllet_list"
   ]
  },
  {
   "cell_type": "code",
   "execution_count": null,
   "metadata": {},
   "outputs": [],
   "source": [
    "sum_cf=round((walllet_list['sum_sell'].sum() -walllet_list['sum_buy'].sum()) +walllet_list['hold_value'].sum(),3)\n",
    "entry =6300\n",
    "sum_cf_p = round(sum_cf  /entry *100,3)\n",
    "print(f'Cash flow {sum_cf} CashFlow% {sum_cf_p}%')"
   ]
  },
  {
   "cell_type": "code",
   "execution_count": null,
   "metadata": {},
   "outputs": [],
   "source": [
    "df_listings =  df.loc[np.random.permutation(len(df))]\n",
    "df_listings"
   ]
  },
  {
   "cell_type": "code",
   "execution_count": null,
   "metadata": {},
   "outputs": [],
   "source": [
    "walllet_list.loc[walllet_list.index =='MATIC']"
   ]
  },
  {
   "cell_type": "code",
   "execution_count": null,
   "metadata": {},
   "outputs": [],
   "source": [
    "# (walllet_list.loc[walllet_list.index =='MATIC']['sum_buy'] + walllet_list.loc[walllet_list.index =='MATIC']['sum_sell'] )*0.05"
   ]
  },
  {
   "cell_type": "code",
   "execution_count": null,
   "metadata": {},
   "outputs": [],
   "source": [
    "df['symbols_name']=df['symbol'].str.replace('/USD','')\n",
    "df"
   ]
  },
  {
   "cell_type": "code",
   "execution_count": null,
   "metadata": {},
   "outputs": [],
   "source": [
    "walllet_list"
   ]
  },
  {
   "cell_type": "code",
   "execution_count": null,
   "metadata": {},
   "outputs": [],
   "source": [
    "token_name  = ['SOL','MATIC','XLMBULL','BTC','ETH','UNI','DOGE']\n",
    "symbol_lists= ['1INCH/USD','SOL/USD','RAY/USD','SRM/USD','BTC/USD','ETH/USD','XRP/USD','AAVE/USD','UNI/USD','ALPHA/USD','BNB/USD','FTT/USD','LINA/USD','DOGE/USD','BAL/USD','MATIC/USD']\n",
    "timeframes ='1d'\n",
    "\n",
    "start_date = dt.datetime.now() - dt.timedelta(days=100)\n",
    "start_ts = start_date.timestamp()*1000\n",
    "end_date = dt.date.today()\n",
    "ddd ={}\n",
    "for symbol in symbol_lists:\n",
    "    token =symbol.split('/')[0]\n",
    "#     symbols = token+ '/USD'\n",
    "    df = pd.DataFrame(Exchange().exchange.fetch_ohlcv(symbol,timeframe=timeframes, since=start_ts),columns=['date','open','high','low','close','volume'])['close']\n",
    "    ddd[token] = df"
   ]
  },
  {
   "cell_type": "code",
   "execution_count": null,
   "metadata": {},
   "outputs": [],
   "source": [
    "df1 =pd.DataFrame(ddd)\n",
    "# df1.pct_change()[-1:].plot(kind='barh')\n",
    "df1 =df1.pct_change()[-1:]\n",
    "df1= df1.T\n",
    "df1.rename(columns= {99:'diff'},inplace=True)\n",
    "df1"
   ]
  },
  {
   "cell_type": "code",
   "execution_count": null,
   "metadata": {},
   "outputs": [],
   "source": [
    "sns.set_style(\"whitegrid\")\n",
    "bar,ax = plt.subplots(figsize=(10,5))\n",
    "\n",
    "\n",
    "ax = sns.barplot(x=df1['diff'], y=df1.index, data=df1, ci=None, palette=\"muted\",orient='h' ) #swap x ,y \n",
    "ax.set_title(\"Daily Changes\", fontsize=15)\n",
    "ax.set_xlabel (\"Coins\",fontsize=12)\n",
    "ax.set_ylabel (\"Percentage\",fontsize=12)\n",
    "ax.grid(False)\n",
    "sns.despine(bottom = True, left = False)\n",
    "for rect in ax.patches:\n",
    "        ax.text (rect.get_width(), rect.get_y() + rect.get_height() / 2,\"%.3f%%\"% rect.get_width(), weight='bold' )\n",
    "    # bar.savefig(\"Seaborn_Bar_Vertical.png\");\n",
    "plt.show()"
   ]
  },
  {
   "cell_type": "code",
   "execution_count": null,
   "metadata": {},
   "outputs": [],
   "source": [
    "def plot_bar():\n",
    "    wallet = ex.get_wallet()\n",
    "    wallet_df = pd.DataFrame(wallet)\n",
    "    df1 = wallet_df[['coin', 'usdValue']]\n",
    "    df1['usdValue'] = df1['usdValue'].astype('float')\n",
    "    df_percent = df1.groupby('coin').agg(percentage = ('usdValue', lambda p: p.sum() / df1['usdValue'].sum() * 100) ).round(2)\n",
    "    sns.set_style(\"whitegrid\")\n",
    "    bar,ax = plt.subplots(figsize=(8,4))\n",
    "    ax = sns.barplot(x=\"percentage\", y=df_percent.index, data=df_percent, ci=None, palette=\"muted\",orient='h' ) #swap x ,y \n",
    "    ax.set_title(\"Portfolio Total Values\", fontsize=15)\n",
    "    ax.set_xlabel (\"Coins\",fontsize=12)\n",
    "    ax.set_ylabel (\"Percentage\",fontsize=12)\n",
    "    ax.grid(False)\n",
    "    sns.despine(bottom = True, left = False)\n",
    "\n",
    "    for rect in ax.patches:\n",
    "        ax.text (rect.get_width(), rect.get_y() + rect.get_height() / 2,\"%.1f%%\"% rect.get_width(), weight='bold' )\n",
    "    # bar.savefig(\"Seaborn_Bar_Vertical.png\");\n",
    "    plt.show()\n",
    "    return    df_percent"
   ]
  },
  {
   "cell_type": "code",
   "execution_count": null,
   "metadata": {
    "scrolled": true
   },
   "outputs": [],
   "source": [
    "# shuffled_index = np.random.permutation(df.index)\n",
    "# df.reindex(shuffled_index)"
   ]
  },
  {
   "cell_type": "code",
   "execution_count": null,
   "metadata": {
    "scrolled": true
   },
   "outputs": [],
   "source": [
    "# df.loc[df.index[0:10],'num'] =1\n",
    "# df.loc[df.index[10:20],'num'] =2\n",
    "# df.loc[df.index[20:-1],'num'] =3\n",
    "# df"
   ]
  },
  {
   "cell_type": "code",
   "execution_count": null,
   "metadata": {},
   "outputs": [],
   "source": []
  }
 ],
 "metadata": {
  "kernelspec": {
   "display_name": "Python 3",
   "language": "python",
   "name": "python3"
  },
  "language_info": {
   "codemirror_mode": {
    "name": "ipython",
    "version": 3
   },
   "file_extension": ".py",
   "mimetype": "text/x-python",
   "name": "python",
   "nbconvert_exporter": "python",
   "pygments_lexer": "ipython3",
   "version": "3.7.4"
  }
 },
 "nbformat": 4,
 "nbformat_minor": 4
}
